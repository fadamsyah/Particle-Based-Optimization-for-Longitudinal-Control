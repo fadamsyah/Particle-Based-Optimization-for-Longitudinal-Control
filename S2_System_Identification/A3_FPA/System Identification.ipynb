{
 "cells": [
  {
   "cell_type": "code",
   "execution_count": 1,
   "metadata": {
    "ExecuteTime": {
     "end_time": "2020-05-04T16:45:17.351160Z",
     "start_time": "2020-05-04T16:45:15.171974Z"
    }
   },
   "outputs": [],
   "source": [
    "import numpy as np\n",
    "import numba as nb\n",
    "import math\n",
    "import matplotlib.pyplot as plt\n",
    "import pandas as pd\n",
    "import time\n",
    "from numba import njit, prange\n",
    "from os import listdir\n",
    "from os.path import isfile, join\n",
    "\n",
    "%matplotlib inline\n",
    "plt.style.use(['science','ieee'])"
   ]
  },
  {
   "cell_type": "markdown",
   "metadata": {},
   "source": [
    "# IMPORT THE TRAINING DATA"
   ]
  },
  {
   "cell_type": "code",
   "execution_count": 2,
   "metadata": {},
   "outputs": [],
   "source": [
    "for i in range(0,24):\n",
    "    if i < 12:\n",
    "        df = pd.read_csv('../data/training_data/' + str(i) + '.csv')\n",
    "    else:\n",
    "        df = pd.read_csv('../data/training_data/s' + str(i-12) + '.csv')\n",
    "    throttle = df.throttle\n",
    "    brake = df.brake\n",
    "    exec(\"t{} = np.array(df.t).astype('float64')\".format(i))\n",
    "    exec(\"u{} = np.array([throttle, brake]).T.astype('float64')\".format(i))\n",
    "    exec(\"v{} = np.array(df.v).astype('float64')\".format(i))"
   ]
  },
  {
   "cell_type": "markdown",
   "metadata": {},
   "source": [
    "# MAKE FUNCTION"
   ]
  },
  {
   "cell_type": "markdown",
   "metadata": {
    "heading_collapsed": true
   },
   "source": [
    "## Generate population"
   ]
  },
  {
   "cell_type": "code",
   "execution_count": 3,
   "metadata": {
    "ExecuteTime": {
     "end_time": "2020-05-04T16:45:17.731486Z",
     "start_time": "2020-05-04T16:45:17.710275Z"
    },
    "hidden": true
   },
   "outputs": [],
   "source": [
    "def generate_population(num, dim, rng):\n",
    "    \"\"\"\n",
    "    Generate flowers:\n",
    "        Input:\n",
    "            num: number of flowers (integer)\n",
    "            dim: number of parameters (integer)\n",
    "            rng: range number used in initialization (list or numpy array)\n",
    "        Output:\n",
    "            flws: initial position of the flowers (numpy array)\n",
    "    \"\"\"\n",
    "    flws = np.zeros((num,dim))\n",
    "    for i in range(dim):\n",
    "        lim = rng[i]\n",
    "        flws[:, i] = np.random.uniform(lim[0], lim[1], size=num)\n",
    "    return flws"
   ]
  },
  {
   "cell_type": "markdown",
   "metadata": {
    "heading_collapsed": true
   },
   "source": [
    "## Constraint"
   ]
  },
  {
   "cell_type": "code",
   "execution_count": 4,
   "metadata": {
    "ExecuteTime": {
     "end_time": "2020-05-04T16:45:17.766484Z",
     "start_time": "2020-05-04T16:45:17.740671Z"
    },
    "hidden": true
   },
   "outputs": [],
   "source": [
    "ndim = 17\n",
    "@njit\n",
    "def admissible(param):\n",
    "    a1, a2, a3, b1, b2, b3, b4, c1, c2, c3, c4, td11, td12, td13, td21, td22, td23 = param\n",
    "    if a1 > 0. or a2 > 0. or a3 > 0. or b1 < 0. or b2 < 0. or c1 > 0. or c2 > 0. or np.around(td11)<0 or np.around(td12)<0 or np.around(td13)<0 or np.around(td21)<0 or np.around(td22)<0 or np.around(td23)<0:\n",
    "        return False\n",
    "    else:\n",
    "        return True\n",
    "    \n",
    "_ = admissible(np.random.randn(ndim))"
   ]
  },
  {
   "cell_type": "markdown",
   "metadata": {
    "heading_collapsed": true
   },
   "source": [
    "## Forward propagation"
   ]
  },
  {
   "cell_type": "code",
   "execution_count": 5,
   "metadata": {},
   "outputs": [],
   "source": [
    "@njit\n",
    "def delayed_control_signal(i, u, u_list, td):\n",
    "    if i < td:\n",
    "        ut = 0.0\n",
    "    else:\n",
    "        if td == 0:\n",
    "            ut = u\n",
    "        else:\n",
    "            ut = u_list[i-td]\n",
    "    return ut\n",
    "_ = delayed_control_signal(1, 0.1, np.array([0.1, 0.2]), 0)"
   ]
  },
  {
   "cell_type": "code",
   "execution_count": 6,
   "metadata": {
    "ExecuteTime": {
     "end_time": "2020-05-04T16:45:17.832798Z",
     "start_time": "2020-05-04T16:45:17.775312Z"
    },
    "hidden": true
   },
   "outputs": [],
   "source": [
    "@njit\n",
    "def forward_propagation(t, u, param):\n",
    "    a1, a2, a3, b1, b2, b3, b4, c1, c2, c3, c4, td11, td12, td13, td21, td22, td23 = param\n",
    "    td11 = int(np.around(td11))\n",
    "    td12 = int(np.around(td12))\n",
    "    td13 = int(np.around(td13))\n",
    "    td21 = int(np.around(td21))\n",
    "    td22 = int(np.around(td22))\n",
    "    td23 = int(np.around(td23))\n",
    "\n",
    "    u1_list = np.empty(t.shape)\n",
    "    u2_list = np.empty(t.shape)\n",
    "    out = np.empty(t.shape)\n",
    "    y = 0.0\n",
    "    for i in range(t.shape[0]):\n",
    "        if i == 0:\n",
    "            dt = t[1] - t[0]\n",
    "        else:\n",
    "            dt = t[i] - t[i-1]\n",
    "            \n",
    "        u1, u2 = u[i]        \n",
    "        u11t = delayed_control_signal(i, u1, u1_list, td11)\n",
    "        u12t = delayed_control_signal(i, u1, u1_list, td12)\n",
    "        u13t = delayed_control_signal(i, u1, u1_list, td13)\n",
    "        u21t = delayed_control_signal(i, u2, u2_list, td21)\n",
    "        u22t = delayed_control_signal(i, u2, u2_list, td22)\n",
    "        u23t = delayed_control_signal(i, u2, u2_list, td23)\n",
    "        \n",
    "        temp = 0.\n",
    "        if y != 0.:\n",
    "            temp = a1\n",
    "                    \n",
    "        y_dot = temp + a2 * y + a3 * y**2 \\\n",
    "                + b1 * u11t + b2 * np.exp(b3 * y + b4 * u12t) * u13t \\\n",
    "                + c1 * u21t + c2 * np.exp(c3 * y + c4 * u22t) * u23t\n",
    "        \n",
    "        y += y_dot * dt\n",
    "        if y < 0.0:\n",
    "            y = 0.0\n",
    "\n",
    "        u1_list[i] = u1\n",
    "        u2_list[i] = u2\n",
    "        out[i] = y\n",
    "\n",
    "    return out\n",
    "_ = forward_propagation(np.arange(10, dtype=float), np.random.randn(10,2), np.ones(ndim))"
   ]
  },
  {
   "cell_type": "markdown",
   "metadata": {
    "heading_collapsed": true
   },
   "source": [
    "## Cost and metric"
   ]
  },
  {
   "cell_type": "code",
   "execution_count": 7,
   "metadata": {
    "ExecuteTime": {
     "end_time": "2020-05-04T16:45:17.859420Z",
     "start_time": "2020-05-04T16:45:17.841064Z"
    },
    "hidden": true
   },
   "outputs": [],
   "source": [
    "@njit\n",
    "def cost(t, u, v, param):\n",
    "    error = (v - forward_propagation(t, u, param))\n",
    "    cost = np.dot(error.T, error)\n",
    "    return cost\n",
    "_ = cost(np.arange(10, dtype=float), np.random.randn(10,2), np.random.randn(10), np.ones(ndim))\n",
    "\n",
    "@njit\n",
    "def accuracy(t, u, v, param):\n",
    "    error = v - forward_propagation(t, u, param)\n",
    "    numerator = np.linalg.norm(error)\n",
    "    denumerator = np.linalg.norm(v - np.mean(v))\n",
    "    acc = 1.0 - numerator / denumerator\n",
    "    return acc\n",
    "_ = accuracy(np.arange(10, dtype=float), np.random.randn(10,2), np.random.randn(10), np.ones(ndim))\n",
    "\n",
    "@njit\n",
    "def mean_absolute_error(t, u, v, param):\n",
    "    error = v - forward_propagation(t, u, param)\n",
    "    out = np.mean(np.abs(error))\n",
    "    return out\n",
    "_ = mean_absolute_error(np.arange(10, dtype=float), np.random.randn(10,2), np.random.randn(10), np.ones(ndim))\n",
    "\n",
    "@njit\n",
    "def mean_squared_error(t, u, v, param):\n",
    "    error = v - forward_propagation(t, u, param)\n",
    "    out = np.mean(error**2)\n",
    "    return out\n",
    "_ = mean_squared_error(np.arange(10, dtype=float), np.random.randn(10,2), np.random.randn(10), np.ones(ndim))\n",
    "\n",
    "@njit\n",
    "def maximum_absolute_error(t, u, v, param):\n",
    "    error = v - forward_propagation(t, u, param)\n",
    "    out = np.max(np.abs(error))\n",
    "    return out\n",
    "_ = maximum_absolute_error(np.arange(10, dtype=float), np.random.randn(10,2), np.random.randn(10), np.ones(ndim))"
   ]
  },
  {
   "cell_type": "code",
   "execution_count": 8,
   "metadata": {},
   "outputs": [],
   "source": [
    "for i in range(0,24):\n",
    "    if i < 12:\n",
    "        df = pd.read_csv('../data/training_data/' + str(i) + '.csv')\n",
    "    else:\n",
    "        df = pd.read_csv('../data/training_data/s' + str(i-12) + '.csv')\n",
    "    throttle = df.throttle\n",
    "    brake = df.brake\n",
    "    exec(\"t{} = np.array(df.t).astype('float64')\".format(i))\n",
    "    exec(\"u{} = np.array([throttle, brake]).T.astype('float64')\".format(i))\n",
    "    exec(\"v{} = np.array(df.v).astype('float64')\".format(i))"
   ]
  },
  {
   "cell_type": "code",
   "execution_count": 9,
   "metadata": {
    "ExecuteTime": {
     "end_time": "2020-05-04T16:45:17.886157Z",
     "start_time": "2020-05-04T16:45:17.864197Z"
    },
    "hidden": true
   },
   "outputs": [],
   "source": [
    "gain = np.array([1.0, 1.0, 1.0,\n",
    "                 1.0, 1.0, 1.0,\n",
    "                 1.0, 1.0, 1.0,\n",
    "                 1.0, 1.0, 1.0,\n",
    "                 1.0, 1.0, 1.0,\n",
    "                 1.0, 1.0, 1.0,\n",
    "                 1.0, 1.0, 1.0,\n",
    "                 1.0, 1.0, 1.0])\n",
    "\n",
    "@njit\n",
    "def calculate_total_cost(param):\n",
    "    loss = np.Inf\n",
    "    if admissible(param):\n",
    "        loss = 0.\n",
    "        m = 0.\n",
    "        \n",
    "        loss += cost(t0, u0, v0, param) * gain[0]\n",
    "        loss += cost(t1, u1, v1, param) * gain[1]\n",
    "        loss += cost(t2, u2, v2, param) * gain[2]\n",
    "        loss += cost(t3, u3, v3, param) * gain[3]\n",
    "        loss += cost(t4, u4, v4, param) * gain[4]\n",
    "        loss += cost(t5, u5, v5, param) * gain[5]\n",
    "        loss += cost(t6, u6, v6, param) * gain[6]\n",
    "        loss += cost(t7, u7, v7, param) * gain[7]\n",
    "        loss += cost(t8, u8, v8, param) * gain[8]\n",
    "        loss += cost(t9, u9, v9, param) * gain[9]\n",
    "        loss += cost(t10, u10, v10, param) * gain[10]\n",
    "        loss += cost(t11, u11, v11, param) * gain[11]\n",
    "        loss += cost(t12, u12, v12, param) * gain[12]\n",
    "        loss += cost(t13, u13, v13, param) * gain[13]\n",
    "        loss += cost(t14, u14, v14, param) * gain[14]\n",
    "        loss += cost(t15, u15, v15, param) * gain[15]\n",
    "        loss += cost(t16, u16, v16, param) * gain[16]\n",
    "        loss += cost(t17, u17, v17, param) * gain[17]\n",
    "        loss += cost(t18, u18, v18, param) * gain[18]\n",
    "        loss += cost(t19, u19, v19, param) * gain[19]\n",
    "        loss += cost(t20, u20, v20, param) * gain[20]\n",
    "        loss += cost(t21, u21, v21, param) * gain[21]\n",
    "        loss += cost(t22, u22, v22, param) * gain[22]\n",
    "        loss += cost(t23, u23, v23, param) * gain[23]\n",
    "\n",
    "        m += t0.shape[0] * gain[0]\n",
    "        m += t1.shape[0] * gain[1]\n",
    "        m += t2.shape[0] * gain[2]\n",
    "        m += t3.shape[0] * gain[3]\n",
    "        m += t4.shape[0] * gain[4]\n",
    "        m += t5.shape[0] * gain[5]\n",
    "        m += t6.shape[0] * gain[6]\n",
    "        m += t7.shape[0] * gain[7]\n",
    "        m += t8.shape[0] * gain[8]\n",
    "        m += t9.shape[0] * gain[9]\n",
    "        m += t10.shape[0] * gain[10]\n",
    "        m += t11.shape[0] * gain[11]\n",
    "        m += t12.shape[0] * gain[12]\n",
    "        m += t13.shape[0] * gain[13]\n",
    "        m += t14.shape[0] * gain[14]\n",
    "        m += t15.shape[0] * gain[15]\n",
    "        m += t16.shape[0] * gain[16]\n",
    "        m += t17.shape[0] * gain[17]\n",
    "        m += t18.shape[0] * gain[18]\n",
    "        m += t19.shape[0] * gain[19]\n",
    "        m += t20.shape[0] * gain[20]\n",
    "        m += t21.shape[0] * gain[21]\n",
    "        m += t22.shape[0] * gain[22]\n",
    "        m += t23.shape[0] * gain[23]\n",
    "\n",
    "        loss = loss / m\n",
    "        \n",
    "    return loss\n",
    "_ = calculate_total_cost(np.ones(ndim))"
   ]
  },
  {
   "cell_type": "code",
   "execution_count": 10,
   "metadata": {
    "ExecuteTime": {
     "end_time": "2020-05-04T16:45:17.899448Z",
     "start_time": "2020-05-04T16:45:17.891718Z"
    },
    "hidden": true
   },
   "outputs": [],
   "source": [
    "@njit(parallel=True)\n",
    "def flowers_cost(flowers):\n",
    "    length = flowers.shape[0]\n",
    "    losses = np.empty(length)\n",
    "    for ii in prange(length):\n",
    "        losses[ii] = calculate_total_cost(flowers[ii])\n",
    "    return losses\n",
    "_ = flowers_cost(np.ones((2,ndim)))"
   ]
  },
  {
   "cell_type": "markdown",
   "metadata": {
    "heading_collapsed": true
   },
   "source": [
    "## Pollination"
   ]
  },
  {
   "cell_type": "code",
   "execution_count": 11,
   "metadata": {
    "ExecuteTime": {
     "end_time": "2020-05-04T16:45:17.940004Z",
     "start_time": "2020-05-04T16:45:17.904420Z"
    },
    "hidden": true
   },
   "outputs": [],
   "source": [
    "@njit(parallel = True)\n",
    "def fpa(flowers, loss_flowers, global_, global_loss_, p, alpha, gamma, var, s0):\n",
    "    num = flowers.shape[0]\n",
    "    dim = flowers.shape[1]    \n",
    "    out = np.empty(flowers.shape)\n",
    "    temp = np.empty(dim)\n",
    "    loss = np.empty(loss_flowers.shape)\n",
    "    temp_loss = 0.\n",
    "    random_number = np.random.uniform(0., 1., num)\n",
    "    for i in prange(num):\n",
    "        # GLOBAL POLLINATION\n",
    "        if random_number[i] < p:\n",
    "            # Generate Levy Flight\n",
    "            upper = np.random.normal(0., np.sqrt(var), size=dim)\n",
    "            lower = np.abs(np.random.normal(0., 1., size=dim))**(1./alpha)\n",
    "            L = np.divide(upper, lower)\n",
    "            \n",
    "            temp = flowers[i] + gamma * L * (global_ - flowers[i])\n",
    "        # LOCAL POLLINATION\n",
    "        else:\n",
    "            while(True):\n",
    "                i1, i2 = np.random.randint(0, num, size=2)\n",
    "                if i1==i2 or i1==i or i2==i:\n",
    "                    if num <= 5: # For breaking the loop\n",
    "                        None\n",
    "                    else:\n",
    "                        continue\n",
    "                break\n",
    "            epsilon = np.random.uniform(0.,1.)\n",
    "            \n",
    "            temp = flowers[i] + epsilon * (flowers[i1] - flowers[i2])\n",
    "        \n",
    "        # CALCULATE COST\n",
    "        temp_loss = calculate_total_cost(temp)\n",
    "        if np.isnan(temp_loss):\n",
    "            temp_loss = np.Inf\n",
    "        \n",
    "        # UPDATE\n",
    "        if temp_loss < loss_flowers[i]:\n",
    "            out[i] = temp\n",
    "            loss[i] = temp_loss\n",
    "        else:\n",
    "            out[i] = flowers[i]\n",
    "            loss[i] = loss_flowers[i]\n",
    "    \n",
    "    min_idx = np.argmin(loss)\n",
    "    min_loss = loss[min_idx]\n",
    "    if global_loss_ > min_loss:\n",
    "        global_loss_new = min_loss\n",
    "        global_new = out[min_idx, :]\n",
    "    else:\n",
    "        global_new = global_\n",
    "        global_loss_new = global_loss_\n",
    "    \n",
    "    return out, loss, global_new, global_loss_new\n",
    "\n",
    "xx1 = np.ones((2, ndim))\n",
    "xx2 = np.ones(2)\n",
    "xx3 = np.random.randn(ndim)\n",
    "_ = fpa(xx1, xx2, xx3, 100.0, 0.8, 1.5, 0.1, 0.69, 0.1)"
   ]
  },
  {
   "cell_type": "markdown",
   "metadata": {},
   "source": [
    "# SIMULATION (OPTIMIZATION)"
   ]
  },
  {
   "cell_type": "code",
   "execution_count": 12,
   "metadata": {
    "ExecuteTime": {
     "end_time": "2020-05-04T16:45:17.982152Z",
     "start_time": "2020-05-04T16:45:17.944360Z"
    }
   },
   "outputs": [],
   "source": [
    "num = 50\n",
    "n_sim = 20\n",
    "n_itr = 10000\n",
    "\n",
    "r_a1 = [0., -2.]\n",
    "r_a2 = [0., -2.]\n",
    "r_a3 = [0., -2.]\n",
    "r_b1 = [0., 2.]\n",
    "r_b2 = [0., 2.]\n",
    "r_b3 = [-2., 2.]\n",
    "r_b4 = [-2., 2.]\n",
    "r_c1 = [0., -2.]\n",
    "r_c2 = [0., -2.]\n",
    "r_c3 = [-2., 2.]\n",
    "r_c4 = [-2., 2.]\n",
    "r_td11 = [0, 15]\n",
    "r_td12 = [0, 15]\n",
    "r_td13 = [0, 15]\n",
    "r_td21 = [0, 6]\n",
    "r_td22 = [0, 6]\n",
    "r_td23 = [0, 6]\n",
    "rng = [r_a1, r_a2, r_a3,\n",
    "       r_b1, r_b2, r_b3, r_b4,\n",
    "       r_c1, r_c2, r_c3, r_c4,\n",
    "       r_td11, r_td12, r_td13,\n",
    "       r_td21, r_td22, r_td23\n",
    "      ]\n",
    "dim = len(rng)\n",
    "\n",
    "s0 = 0.1\n",
    "p_threshold = 0.8\n",
    "alpha = 1.5\n",
    "gamma = 0.1\n",
    "var = (math.gamma(1+alpha)/alpha/math.gamma((1+alpha)/2) * np.sin(np.pi * alpha/2)/2**((alpha-1)/2))**(1/alpha)"
   ]
  },
  {
   "cell_type": "code",
   "execution_count": null,
   "metadata": {},
   "outputs": [],
   "source": [
    "# param_history = np.zeros((n_sim, dim))\n",
    "loss_history = np.ones(n_sim) * np.Inf\n",
    "\n",
    "the_best_param_history = np.zeros((n_itr, dim))\n",
    "the_best_loss_history = np.zeros(n_itr)\n",
    "\n",
    "for j in range(n_sim):\n",
    "    flowers = generate_population(num, dim, rng)\n",
    "    global_ = None\n",
    "    global_loss_ = np.Inf\n",
    "\n",
    "    loss_flowers = flowers_cost(flowers)\n",
    "    loss_flowers[np.isnan(loss_flowers)] = np.Inf\n",
    "    min_idx = np.argmin(loss_flowers)\n",
    "    min_loss = loss_flowers[min_idx]\n",
    "    if global_loss_ > min_loss:\n",
    "        global_loss_ = min_loss\n",
    "        global_ = flowers[min_idx, :]\n",
    "\n",
    "    global_history = np.empty((n_itr, dim))\n",
    "    global_history[0] = global_\n",
    "    global_loss_history = np.empty(n_itr)\n",
    "    global_loss_history[0] = global_loss_\n",
    "    for i in range(1, n_itr):\n",
    "        # Flower Pollination Algorithm\n",
    "        flowers, loss_flowers, global_, global_loss_ = fpa(flowers, loss_flowers, global_, global_loss_, p_threshold, alpha, gamma, var, s0)\n",
    "        \n",
    "        if (i-1) % 500 == 0:\n",
    "            print('simulation: {} || iteration: {} || global_loss: {:.5f}'.format(j+1, i, global_loss_))\n",
    "\n",
    "        global_history[i] = global_\n",
    "        global_loss_history[i] = global_loss_\n",
    "    \n",
    "    if np.min(loss_history) > global_loss_history[-1]:\n",
    "        the_best_loss_history = np.copy(global_loss_history)\n",
    "        the_best_param_history = np.copy(global_history)\n",
    "        \n",
    "    param_history[j] = np.copy(global_history[-1])\n",
    "    loss_history[j] = np.copy(global_loss_history[-1])\n",
    "    \n",
    "    print('simulation: {} || the best loss: {:.10f}'.format(j, the_best_loss_history[-1]))"
   ]
  },
  {
   "cell_type": "code",
   "execution_count": 14,
   "metadata": {},
   "outputs": [],
   "source": [
    "# Save the simulation\n",
    "np.save('result/param_history.npy', param_history)\n",
    "np.save('result/loss_history.npy', loss_history)\n",
    "np.save('result/the_best_loss_history.npy', the_best_loss_history)\n",
    "np.save('result/the_best_param_history.npy', the_best_param_history)"
   ]
  },
  {
   "cell_type": "code",
   "execution_count": 15,
   "metadata": {},
   "outputs": [],
   "source": [
    "f = open(\"result/sim.cfg\", \"w+\")\n",
    "f.writelines('num: {} # The number of flowers\\n'.format(num))\n",
    "f.writelines('n_sim: {} # The number of simulation loop\\n'.format(n_sim))\n",
    "f.writelines('n_itr: {} # The number of iteration for each simulation\\n'.format(n_itr))\n",
    "f.writelines('\\n# The boundary of the initialization value\\n')\n",
    "f.writelines('\\tr_a1: {}\\n'.format(r_a1))\n",
    "f.writelines('\\tr_a2: {}\\n'.format(r_a2))\n",
    "f.writelines('\\tr_a3: {}\\n'.format(r_a3))\n",
    "f.writelines('\\tr_b1: {}\\n'.format(r_b1))\n",
    "f.writelines('\\tr_b2: {}\\n'.format(r_b2))\n",
    "f.writelines('\\tr_b3: {}\\n'.format(r_b3))\n",
    "f.writelines('\\tr_b4: {}\\n'.format(r_b4))\n",
    "f.writelines('\\tr_c1: {}\\n'.format(r_c1))\n",
    "f.writelines('\\tr_c2: {}\\n'.format(r_c2))\n",
    "f.writelines('\\tr_c3: {}\\n'.format(r_c3))\n",
    "f.writelines('\\tr_c4: {}\\n'.format(r_c4))\n",
    "f.writelines('\\tr_td11: {}\\n'.format(r_td11))\n",
    "f.writelines('\\tr_td12: {}\\n'.format(r_td12))\n",
    "f.writelines('\\tr_td13: {}\\n'.format(r_td13))\n",
    "f.writelines('\\tr_td21: {}\\n'.format(r_td21))\n",
    "f.writelines('\\tr_td22: {}\\n'.format(r_td22))\n",
    "f.writelines('\\tr_td23: {}\\n'.format(r_td23))\n",
    "f.writelines('\\n# The gain of the dataset\\n')\n",
    "for i in range(gain.shape[0]):\n",
    "    f.writelines('\\tdata-{}: {}\\n'.format(i, gain[i]))\n",
    "f.writelines('\\n# The FPA hyperparameters\\n')\n",
    "f.writelines('\\ts0: {}\\n'.format(s0))\n",
    "f.writelines('\\tp_threshold: {}\\n'.format(p_threshold))\n",
    "f.writelines('\\talpha: {}\\n'.format(alpha))\n",
    "f.writelines('\\tgamma: {}\\n'.format(gamma))\n",
    "f.writelines('\\tvar: {}\\n'.format(var))\n",
    "f.close()"
   ]
  },
  {
   "cell_type": "markdown",
   "metadata": {},
   "source": [
    "# RESULT"
   ]
  },
  {
   "cell_type": "markdown",
   "metadata": {},
   "source": [
    "## Load Model"
   ]
  },
  {
   "cell_type": "code",
   "execution_count": 16,
   "metadata": {},
   "outputs": [],
   "source": [
    "# Load the model\n",
    "the_best_param_history = np.load('result/the_best_param_history.npy')\n",
    "the_best_loss_history = np.load('result/the_best_loss_history.npy')\n",
    "global_ = the_best_param_history[-1]\n",
    "global_loss_ = the_best_loss_history[-1]"
   ]
  },
  {
   "cell_type": "code",
   "execution_count": 17,
   "metadata": {},
   "outputs": [
    {
     "name": "stdout",
     "output_type": "stream",
     "text": [
      "The minimum loss: 0.0872301763974467\n",
      "Parameters:\n",
      "a1: -0.2023526431034378\n",
      "a2: -0.5910541613982481\n",
      "a3: -0.0005770132907546982\n",
      "b1: 1.631220541380753\n",
      "b2: 1.8518706710078976\n",
      "b3: 0.039080467437224806\n",
      "b4: 1.2002769961563473\n",
      "c1: -12.716362239233726\n",
      "c2: -2.635819975840057\n",
      "c3: -204.76560520231644\n",
      "c4: -78.28904629420902\n",
      "d11: 1.4130257530820842\n",
      "d12: 29.34986163823167\n",
      "d13: 4.068199569772791\n",
      "d21: 4.371384885562993\n",
      "d22: 14.676750513242284\n",
      "d23: 2619.9603472732574\n"
     ]
    }
   ],
   "source": [
    "param_name = ['a1', 'a2', 'a3', 'b1', 'b2', 'b3', 'b4', 'c1', 'c2', 'c3', 'c4', 'd11', 'd12', 'd13', 'd21', 'd22', 'd23']\n",
    "print('The minimum loss: {}'.format(global_loss_))\n",
    "print('Parameters:')\n",
    "for i in range(len(param_name)):\n",
    "    print('{}: {}'.format(param_name[i], global_[i]))"
   ]
  },
  {
   "cell_type": "markdown",
   "metadata": {},
   "source": [
    "## Visualization"
   ]
  },
  {
   "cell_type": "code",
   "execution_count": 18,
   "metadata": {},
   "outputs": [
    {
     "name": "stderr",
     "output_type": "stream",
     "text": [
      "findfont: Font family ['serif'] not found. Falling back to DejaVu Sans.\n"
     ]
    },
    {
     "data": {
      "image/png": "[encoded data removed]",
      "text/plain": [
       "<Figure size 1980x1500 with 1 Axes>"
      ]
     },
     "metadata": {
      "needs_background": "light"
     },
     "output_type": "display_data"
    }
   ],
   "source": [
    "# Visualization\n",
    "idx = 12\n",
    "exec(\"t = np.copy(t{})\".format(idx))\n",
    "exec(\"u = np.copy(u{})\".format(idx))\n",
    "exec(\"v = np.copy(v{})\".format(idx))\n",
    "test = forward_propagation(t, u, global_)\n",
    "plt.plot(t, v, label='ground-truth')\n",
    "plt.plot(t, test, label='prediction')\n",
    "plt.legend()\n",
    "plt.show()"
   ]
  },
  {
   "cell_type": "markdown",
   "metadata": {},
   "source": [
    "## Cost and Metrics"
   ]
  },
  {
   "cell_type": "code",
   "execution_count": 19,
   "metadata": {},
   "outputs": [],
   "source": [
    "acc = []\n",
    "mse = []\n",
    "maae = [] \n",
    "for i in range(24):\n",
    "    exec(\"acc.append(accuracy(t{}, u{}, v{}, global_))\".format(i, i, i))\n",
    "    exec(\"mse.append(mean_squared_error(t{}, u{}, v{}, global_))\".format(i, i, i))\n",
    "    exec(\"maae.append(maximum_absolute_error(t{}, u{}, v{}, global_))\".format(i, i, i))"
   ]
  },
  {
   "cell_type": "code",
   "execution_count": 20,
   "metadata": {},
   "outputs": [
    {
     "name": "stdout",
     "output_type": "stream",
     "text": [
      "Accuracy\n",
      "Data ke-1: 87.37%\n",
      "Data ke-2: 94.42%\n",
      "Data ke-3: 92.18%\n",
      "Data ke-4: 86.95%\n",
      "Data ke-5: 89.49%\n",
      "Data ke-6: 94.46%\n",
      "Data ke-7: 93.29%\n",
      "Data ke-8: 88.05%\n",
      "Data ke-9: 81.60%\n",
      "Data ke-10: 88.03%\n",
      "Data ke-11: 94.29%\n",
      "Data ke-12: 92.71%\n",
      "Data ke-13: 78.49%\n",
      "Data ke-14: 86.20%\n",
      "Data ke-15: 81.78%\n",
      "Data ke-16: 86.85%\n",
      "Data ke-17: 92.14%\n",
      "Data ke-18: 92.11%\n",
      "Data ke-19: 85.17%\n",
      "Data ke-20: 91.92%\n",
      "Data ke-21: 94.35%\n",
      "Data ke-22: 88.84%\n",
      "Data ke-23: 86.51%\n",
      "Data ke-24: 91.89%\n"
     ]
    }
   ],
   "source": [
    "print('Accuracy')\n",
    "for i in range(24):\n",
    "    print('Data ke-{}: {:.2f}%'.format(i+1, acc[i]*100))"
   ]
  },
  {
   "cell_type": "code",
   "execution_count": 21,
   "metadata": {},
   "outputs": [
    {
     "name": "stdout",
     "output_type": "stream",
     "text": [
      "Mean Squared Error\n",
      "Data ke-1: 0.01799\n",
      "Data ke-2: 0.03745\n",
      "Data ke-3: 0.13609\n",
      "Data ke-4: 0.05658\n",
      "Data ke-5: 0.08166\n",
      "Data ke-6: 0.08025\n",
      "Data ke-7: 0.14111\n",
      "Data ke-8: 0.05685\n",
      "Data ke-9: 0.02577\n",
      "Data ke-10: 0.04955\n",
      "Data ke-11: 0.03525\n",
      "Data ke-12: 0.10806\n",
      "Data ke-13: 0.00775\n",
      "Data ke-14: 0.00708\n",
      "Data ke-15: 0.03128\n",
      "Data ke-16: 0.02949\n",
      "Data ke-17: 0.01887\n",
      "Data ke-18: 0.02695\n",
      "Data ke-19: 0.11371\n",
      "Data ke-20: 0.03591\n",
      "Data ke-21: 0.03130\n",
      "Data ke-22: 0.14868\n",
      "Data ke-23: 0.28894\n",
      "Data ke-24: 0.17784\n"
     ]
    }
   ],
   "source": [
    "print('Mean Squared Error')\n",
    "for i in range(24):\n",
    "    print('Data ke-{}: {:.5f}'.format(i+1, mse[i]))"
   ]
  },
  {
   "cell_type": "code",
   "execution_count": 22,
   "metadata": {},
   "outputs": [
    {
     "name": "stdout",
     "output_type": "stream",
     "text": [
      "Maximum Absolute Squared Error\n",
      "Data ke-1: 0.773\n",
      "Data ke-2: 0.659\n",
      "Data ke-3: 1.261\n",
      "Data ke-4: 1.078\n",
      "Data ke-5: 0.671\n",
      "Data ke-6: 0.988\n",
      "Data ke-7: 1.529\n",
      "Data ke-8: 0.570\n",
      "Data ke-9: 0.265\n",
      "Data ke-10: 1.334\n",
      "Data ke-11: 1.057\n",
      "Data ke-12: 2.149\n",
      "Data ke-13: 0.187\n",
      "Data ke-14: 0.234\n",
      "Data ke-15: 0.287\n",
      "Data ke-16: 0.361\n",
      "Data ke-17: 0.460\n",
      "Data ke-18: 0.506\n",
      "Data ke-19: 0.538\n",
      "Data ke-20: 0.549\n",
      "Data ke-21: 0.564\n",
      "Data ke-22: 0.581\n",
      "Data ke-23: 0.671\n",
      "Data ke-24: 0.896\n"
     ]
    }
   ],
   "source": [
    "print('Maximum Absolute Squared Error')\n",
    "for i in range(24):\n",
    "    print('Data ke-{}: {:.3f}'.format(i+1, maae[i]))"
   ]
  },
  {
   "cell_type": "code",
   "execution_count": 23,
   "metadata": {},
   "outputs": [
    {
     "name": "stdout",
     "output_type": "stream",
     "text": [
      "Total Accuracy: 95.45%\n"
     ]
    }
   ],
   "source": [
    "num = 0\n",
    "for i in range(24):\n",
    "    exec(\"num += t{}.shape[0]\".format(i))\n",
    "vv = np.empty(num)\n",
    "vv_gt = np.empty(num)\n",
    "nn = 0\n",
    "for i in range(24):\n",
    "    exec(\"n = t{}.shape[0]\".format(i))\n",
    "    exec(\"vv[nn: nn+n] = forward_propagation(t{}, u{}, global_)\".format(i, i))\n",
    "    exec(\"vv_gt[nn: nn+n] = v{}\".format(i))\n",
    "    nn += n\n",
    "total_accuracy = (1 - np.linalg.norm(vv_gt - vv)/np.linalg.norm(vv_gt - np.mean(vv_gt)))\n",
    "print('Total Accuracy: {:.2f}%'.format(total_accuracy*100))"
   ]
  },
  {
   "cell_type": "code",
   "execution_count": null,
   "metadata": {},
   "outputs": [],
   "source": []
  }
 ],
 "metadata": {
  "kernelspec": {
   "display_name": "Python 3",
   "language": "python",
   "name": "python3"
  },
  "language_info": {
   "codemirror_mode": {
    "name": "ipython",
    "version": 3
   },
   "file_extension": ".py",
   "mimetype": "text/x-python",
   "name": "python",
   "nbconvert_exporter": "python",
   "pygments_lexer": "ipython3",
   "version": "3.9.5"
  },
  "latex_envs": {
   "LaTeX_envs_menu_present": true,
   "autoclose": false,
   "autocomplete": true,
   "bibliofile": "biblio.bib",
   "cite_by": "apalike",
   "current_citInitial": 1,
   "eqLabelWithNumbers": true,
   "eqNumInitial": 1,
   "hotkeys": {
    "equation": "Ctrl-E",
    "itemize": "Ctrl-I"
   },
   "labels_anchors": false,
   "latex_user_defs": false,
   "report_style_numbering": false,
   "user_envs_cfg": false
  },
  "toc": {
   "base_numbering": 1,
   "nav_menu": {},
   "number_sections": true,
   "sideBar": true,
   "skip_h1_title": false,
   "title_cell": "Table of Contents",
   "title_sidebar": "Contents",
   "toc_cell": false,
   "toc_position": {},
   "toc_section_display": true,
   "toc_window_display": false
  },
  "toc-autonumbering": true
 },
 "nbformat": 4,
 "nbformat_minor": 4
}
