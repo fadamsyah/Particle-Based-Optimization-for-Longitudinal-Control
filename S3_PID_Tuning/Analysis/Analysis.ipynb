{
 "cells": [
  {
   "cell_type": "markdown",
   "metadata": {},
   "source": [
    "# IMPORT"
   ]
  },
  {
   "cell_type": "code",
   "execution_count": 1,
   "metadata": {},
   "outputs": [],
   "source": [
    "import numpy as np\n",
    "import numba as nb\n",
    "import matplotlib.pyplot as plt\n",
    "import pandas as pd\n",
    "from numba import njit, prange\n",
    "from os import listdir\n",
    "from os.path import isfile, join\n",
    "from scipy.integrate import cumtrapz\n",
    "\n",
    "plt.style.use(['science', 'grid'])\n",
    "\n",
    "DPI = 500"
   ]
  },
  {
   "cell_type": "markdown",
   "metadata": {},
   "source": [
    "## Simulation Results"
   ]
  },
  {
   "cell_type": "code",
   "execution_count": 2,
   "metadata": {},
   "outputs": [
    {
     "name": "stdout",
     "output_type": "stream",
     "text": [
      "The minimum loss algorithm: A1_PSO\n",
      "[0.91199774 1.58133774 0.03292953]\n"
     ]
    }
   ],
   "source": [
    "dir_names =  ['A1_PSO', 'A2_APSO', 'A3_FPA', 'A4_MFPA']\n",
    "param_names = ['kp', 'ki', 'kd']\n",
    "\n",
    "data_loss = {}\n",
    "data_loss_summary = {'name': [], 'min': [], 'max': [], 'mean': [], 'std': []}\n",
    "data_best_loss_history = {}\n",
    "data_best_param = {'name': []}\n",
    "for param_name in param_names:\n",
    "    data_best_param[param_name] = []\n",
    "\n",
    "temp = np.Inf\n",
    "    \n",
    "for dir_name in dir_names:\n",
    "    lh = np.load('../'+dir_name+'/result/loss_history.npy')\n",
    "    ph = np.load('../'+dir_name+'/result/param_history.npy')\n",
    "    lb = np.load('../'+dir_name+'/result/the_best_loss_history.npy')\n",
    "    pb = np.load('../'+dir_name+'/result/the_best_param_history.npy')\n",
    "    \n",
    "    data_loss[dir_name] = lh\n",
    "    \n",
    "    data_best_loss_history[dir_name] = lb\n",
    "    \n",
    "    data_loss_summary['name'].append(dir_name)\n",
    "    data_loss_summary['min'].append(lb[-1])\n",
    "    data_loss_summary['max'].append(lh.max())\n",
    "    data_loss_summary['mean'].append(np.mean(lh))\n",
    "    data_loss_summary['std'].append(np.std(lh))\n",
    "    \n",
    "    data_best_param['name'].append(dir_name)\n",
    "    for i in range(len(param_names)):\n",
    "        data_best_param[param_names[i]].append(pb[-1][i])\n",
    "        \n",
    "    if lb[-1] < temp:\n",
    "        alg_name = dir_name\n",
    "        params = np.copy(pb[-1])\n",
    "        temp = lb[-1]\n",
    "\n",
    "df_loss = pd.DataFrame(data_loss)\n",
    "df_loss_summary = pd.DataFrame(data_loss_summary)\n",
    "df_best_param = pd.DataFrame(data_best_param)\n",
    "df_best_loss_history = pd.DataFrame(data_best_loss_history)\n",
    "\n",
    "print('The minimum loss algorithm: '+ alg_name)\n",
    "print(params)"
   ]
  },
  {
   "cell_type": "code",
   "execution_count": 3,
   "metadata": {},
   "outputs": [
    {
     "data": {
      "text/html": [
       "<div>\n",
       "<style scoped>\n",
       "    .dataframe tbody tr th:only-of-type {\n",
       "        vertical-align: middle;\n",
       "    }\n",
       "\n",
       "    .dataframe tbody tr th {\n",
       "        vertical-align: top;\n",
       "    }\n",
       "\n",
       "    .dataframe thead th {\n",
       "        text-align: right;\n",
       "    }\n",
       "</style>\n",
       "<table border=\"1\" class=\"dataframe\">\n",
       "  <thead>\n",
       "    <tr style=\"text-align: right;\">\n",
       "      <th></th>\n",
       "      <th>name</th>\n",
       "      <th>min</th>\n",
       "      <th>max</th>\n",
       "      <th>mean</th>\n",
       "      <th>std</th>\n",
       "    </tr>\n",
       "  </thead>\n",
       "  <tbody>\n",
       "    <tr>\n",
       "      <th>0</th>\n",
       "      <td>A1_PSO</td>\n",
       "      <td>0.000961</td>\n",
       "      <td>0.000961</td>\n",
       "      <td>0.000961</td>\n",
       "      <td>2.080708e-18</td>\n",
       "    </tr>\n",
       "    <tr>\n",
       "      <th>1</th>\n",
       "      <td>A2_APSO</td>\n",
       "      <td>0.000988</td>\n",
       "      <td>0.001861</td>\n",
       "      <td>0.001195</td>\n",
       "      <td>2.021491e-04</td>\n",
       "    </tr>\n",
       "    <tr>\n",
       "      <th>2</th>\n",
       "      <td>A3_FPA</td>\n",
       "      <td>0.000961</td>\n",
       "      <td>0.000961</td>\n",
       "      <td>0.000961</td>\n",
       "      <td>1.665583e-18</td>\n",
       "    </tr>\n",
       "    <tr>\n",
       "      <th>3</th>\n",
       "      <td>A4_MFPA</td>\n",
       "      <td>0.000961</td>\n",
       "      <td>0.000961</td>\n",
       "      <td>0.000961</td>\n",
       "      <td>1.483417e-18</td>\n",
       "    </tr>\n",
       "  </tbody>\n",
       "</table>\n",
       "</div>"
      ],
      "text/plain": [
       "      name       min       max      mean           std\n",
       "0   A1_PSO  0.000961  0.000961  0.000961  2.080708e-18\n",
       "1  A2_APSO  0.000988  0.001861  0.001195  2.021491e-04\n",
       "2   A3_FPA  0.000961  0.000961  0.000961  1.665583e-18\n",
       "3  A4_MFPA  0.000961  0.000961  0.000961  1.483417e-18"
      ]
     },
     "execution_count": 3,
     "metadata": {},
     "output_type": "execute_result"
    }
   ],
   "source": [
    "df_loss_summary"
   ]
  },
  {
   "cell_type": "markdown",
   "metadata": {},
   "source": [
    "# Analysis (Cost: Mean Absolute Squared)"
   ]
  },
  {
   "cell_type": "markdown",
   "metadata": {},
   "source": [
    "## Setpoint"
   ]
  },
  {
   "cell_type": "code",
   "execution_count": 4,
   "metadata": {},
   "outputs": [],
   "source": [
    "def step(tt):\n",
    "    out = np.zeros_like(tt)\n",
    "    out[tt >= 0] = 1\n",
    "    return out\n",
    "\n",
    "def ramp(tt):\n",
    "    out = np.array(tt)\n",
    "    out[tt < 0] = 0\n",
    "    return out\n",
    "\n",
    "def jitter(gain, omega, tt, t0, tf):\n",
    "    out = np.array(tt)\n",
    "    \n",
    "    out = gain * np.sin(omega*(tt-t0))\n",
    "    out[tt-t0 < 0] = 0\n",
    "    out[tt-tf > 0] = 0\n",
    "    return out"
   ]
  },
  {
   "cell_type": "code",
   "execution_count": 5,
   "metadata": {},
   "outputs": [
    {
     "name": "stderr",
     "output_type": "stream",
     "text": [
      "No handles with labels found to put in legend.\n"
     ]
    },
    {
     "data": {
      "image/png": "[encoded data removed]",
      "text/plain": [
       "<Figure size 252x189 with 1 Axes>"
      ]
     },
     "metadata": {
      "needs_background": "light"
     },
     "output_type": "display_data"
    }
   ],
   "source": [
    "t0 = np.arange(3, 288, 0.02)\n",
    "a0 = ramp(t0-3) - ramp(t0-4.5) - ramp(t0-8) + ramp(t0-9.5) \\\n",
    "    - 0.25*ramp(t0-27) + 0.25*ramp(t0-30) + 0.25*ramp(t0-32) - 0.25*ramp(t0-35) \\\n",
    "    + 0.5*ramp(t0-40) - 1.*ramp(t0-44) + 0.5*ramp(t0-48) \\\n",
    "    - 1*ramp(t0-60) + 2*ramp(t0 - 62) - 1*ramp(t0-64) \\\n",
    "    - 0.1*ramp(t0-79) + 0.4*ramp(t0-85) - 0.3*ramp(t0-87) \\\n",
    "    + 0.35*ramp(t0-95) - 0.7*ramp(t0-98) + 0.35*ramp(t0-101) \\\n",
    "    - 0.5*ramp(t0-101) + 1*ramp(t0-102.5) - 0.5*ramp(t0-104) \\\n",
    "    + 0.35*ramp(t0-104) - 0.7*ramp(t0-107) + 0.35*ramp(t0-110) \\\n",
    "    - 0.15*ramp(t0-110) + 0.3*ramp(t0-114) - 0.15*ramp(t0-118) \\\n",
    "    + jitter(0.25, np.pi / 2.0, t0, 132, 152) \\\n",
    "    + 2.*ramp(t0-160) - 2.*ramp(t0-161) - 2.*ramp(t0-163) + 2.*ramp(t0-164) \\\n",
    "    - 2.*ramp(t0 - 180) + 2*ramp(t0-181) + 2 *ramp(t0-183) - 2*ramp(t0-184) \\\n",
    "    + 2.0 * ramp(t0-210) - 2.0*ramp(t0-210.2) - 2.0*ramp(t0-216) + 2.0*ramp(t0-216.4)\\\n",
    "    + 2.0 * ramp(t0-218.4) - 2.0*ramp(t0-218.8)  - 2.0*ramp(t0 - 230) + 2.0*ramp(t0-230.2) \\\n",
    "    - 1.5*ramp(t0-240) + 1.5*ramp(t0-241) + 1.5*ramp(t0-243) - 1.5*ramp(t0-244)\n",
    "\n",
    "t0 = np.arange(0, 285, 0.02)\n",
    "v0 = cumtrapz(a0, t0, initial=0.) + 1.\n",
    "\n",
    "plt.figure()\n",
    "plt.plot(t0, v0, color='black')\n",
    "plt.xlabel('Time $(s)$')\n",
    "plt.ylabel('Speed $(m/s)$')\n",
    "plt.legend()\n",
    "plt.show()"
   ]
  },
  {
   "cell_type": "markdown",
   "metadata": {},
   "source": [
    "## Model"
   ]
  },
  {
   "cell_type": "code",
   "execution_count": 6,
   "metadata": {},
   "outputs": [],
   "source": [
    "# Steady State Response\n",
    "param_ssr = np.load('../model/ssr.npy')[-1]\n",
    "\n",
    "# Dynamics\n",
    "param_dynamics = np.load('../model/sys_id.npy')[-1]"
   ]
  },
  {
   "cell_type": "code",
   "execution_count": 7,
   "metadata": {},
   "outputs": [],
   "source": [
    "@njit\n",
    "def delayed_control_signal(i, u, u_list, td):\n",
    "    if i < td:\n",
    "        ut = 0.0\n",
    "    else:\n",
    "        if td == 0:\n",
    "            ut = u\n",
    "        else:\n",
    "            ut = u_list[i-td]\n",
    "    return ut\n",
    "_ = delayed_control_signal(1, 0.1, np.array([0.1, 0.2]), 0)\n",
    "\n",
    "@njit\n",
    "def clip(a, a_min, a_max):\n",
    "    if a > a_max:\n",
    "        return a_max\n",
    "    elif a < a_min:\n",
    "        return a_min\n",
    "    else:\n",
    "        return a\n",
    "    \n",
    "_ = clip(2.0, -1.0, 1.0)\n",
    "\n",
    "# Steady state response parameters\n",
    "beta1, beta2, beta3 = param_ssr\n",
    "\n",
    "# System parameters\n",
    "a1, a2, a3, b1, b2, b3, b4, c1, c2, c3, c4, td11, td12, td13, td21, td22, td23 = param_dynamics\n",
    "td11 = int(np.around(td11))\n",
    "td12 = int(np.around(td12))\n",
    "td13 = int(np.around(td13))\n",
    "td21 = int(np.around(td21))\n",
    "td22 = int(np.around(td22))\n",
    "td23 = int(np.around(td23))\n",
    "\n",
    "sat_min = -1.\n",
    "sat_max = 1.\n",
    "\n",
    "@njit\n",
    "def forward_propagation(t, v, param):    \n",
    "    kp, ki, kd = param\n",
    "\n",
    "    dt = np.mean(t[1:] - t[:-1])\n",
    "    \n",
    "    ki = ki * dt\n",
    "    kd = kd / dt    \n",
    "    \n",
    "    e_sum = 0.0\n",
    "    e_last = 0.0\n",
    "    e_int_state = 0 # 0 --> No Saturation || 1 --> Saturation (+) || -1 --> Saturation (-1)\n",
    "    is_start = True\n",
    "    \n",
    "    u1_list = np.empty(t.shape)\n",
    "    u2_list = np.empty(t.shape)\n",
    "    out = np.empty(t.shape)\n",
    "    y = 0.0\n",
    "    for i in range(t.shape[0]):     \n",
    "        # LONGITUDINAL CONTROLLER\n",
    "        sp = clip(v[i], 0.0, np.Inf)\n",
    "        sr = beta1 * (1 - np.exp(beta2*sp)) + beta3\n",
    "        sr = clip(sr, 0., sat_max) * 0.5\n",
    "        \n",
    "        err = sp - y\n",
    "        if e_int_state == 0:\n",
    "            e_sum += err\n",
    "        elif e_int_state == 1:\n",
    "            if err < 0:\n",
    "                e_sum += err\n",
    "        elif e_int_state == -1:\n",
    "            if err > 0:\n",
    "                e_sum += err\n",
    "        \n",
    "        if is_start:\n",
    "            temp = sr + kp * err + ki * e_sum + 0.\n",
    "            is_start = False\n",
    "        else:\n",
    "            temp = sr + kp * err + ki * e_sum + kd * (err - e_last)\n",
    "        \n",
    "        e_last = err\n",
    "\n",
    "        if temp > sat_max: # Saturation (+)\n",
    "            temp = sat_max\n",
    "            e_int_state = 1\n",
    "        elif temp < sat_min: # Saturation (-)\n",
    "            temp = sat_min\n",
    "            e_int_state = -1\n",
    "        else: # Not saturated\n",
    "            e_int_state = 0\n",
    "        \n",
    "        u1 = clip(temp, 0.0, sat_max)\n",
    "        u2 = clip(-temp, 0.0, -sat_min)\n",
    "        \n",
    "        # DYNAMICS     \n",
    "        u11t = delayed_control_signal(i, u1, u1_list, td11)\n",
    "        u12t = delayed_control_signal(i, u1, u1_list, td12)\n",
    "        u13t = delayed_control_signal(i, u1, u1_list, td13)\n",
    "        u21t = delayed_control_signal(i, u2, u2_list, td21)\n",
    "        u22t = delayed_control_signal(i, u2, u2_list, td22)\n",
    "        u23t = delayed_control_signal(i, u2, u2_list, td23)\n",
    "        \n",
    "        temp = 0.\n",
    "        if y != 0.:\n",
    "            temp = a1\n",
    "                    \n",
    "        y_dot = temp + a2 * y + a3 * y**2 \\\n",
    "                + b1 * u11t + b2 * np.exp(b3 * y + b4 * u12t) * u13t  \\\n",
    "                + c1 * u21t + c2 * np.exp(c3 * y + c4 * u22t) * u23t\n",
    "        \n",
    "        y += y_dot * dt\n",
    "        if y < 0.0:\n",
    "            y = 0.0\n",
    "\n",
    "        u1_list[i] = u1\n",
    "        u2_list[i] = u2\n",
    "        out[i] = y\n",
    "\n",
    "    return out, u1_list, u2_list\n",
    "_ = forward_propagation(np.arange(10, dtype=float), np.ones(10), np.array([0.1, 0.1, 0.1]))"
   ]
  },
  {
   "cell_type": "markdown",
   "metadata": {},
   "source": [
    "## Visualization"
   ]
  },
  {
   "cell_type": "code",
   "execution_count": 8,
   "metadata": {},
   "outputs": [
    {
     "data": {
      "image/png": "[encoded data removed]",
      "text/plain": [
       "<Figure size 252x189 with 1 Axes>"
      ]
     },
     "metadata": {
      "needs_background": "light"
     },
     "output_type": "display_data"
    }
   ],
   "source": [
    "plt.figure()\n",
    "names = ['PSO', 'APSO', 'FPA', 'MFPA']\n",
    "for i in range(len(dir_names)):\n",
    "    plt.scatter(df_loss.index.values, np.log10(df_loss[dir_names[i]]), s=2., label=names[i])\n",
    "plt.xlabel('Iteration')\n",
    "plt.ylabel('$\\mathrm{log}_{10}(cost)$')\n",
    "plt.legend(fontsize=6,  ncol=4, loc='upper right')\n",
    "plt.ylim([None,-2.685])\n",
    "plt.savefig('img/stability_check.png', dpi=DPI, transparent=True)\n",
    "plt.show()"
   ]
  },
  {
   "cell_type": "code",
   "execution_count": 9,
   "metadata": {},
   "outputs": [
    {
     "data": {
      "image/png": "[encoded data removed]",
      "text/plain": [
       "<Figure size 252x189 with 1 Axes>"
      ]
     },
     "metadata": {
      "needs_background": "light"
     },
     "output_type": "display_data"
    }
   ],
   "source": [
    "mv, cs1, cs2 = forward_propagation(t0, v0, params)\n",
    "\n",
    "plt.figure()\n",
    "plt.plot(t0, v0, label='Setpoint', zorder=2, color='black', linestyle='--')\n",
    "plt.plot(t0, mv, label='Response', zorder=1, color='red', linewidth=2.)\n",
    "plt.xlabel('Time $(s)$')\n",
    "plt.ylabel('Speed $(m/s)$')\n",
    "plt.legend(fontsize=7)\n",
    "plt.savefig('img/simulation_result.png', dpi=DPI, transparent=True, bbox_inches='tight')\n",
    "plt.show()"
   ]
  },
  {
   "cell_type": "code",
   "execution_count": 10,
   "metadata": {},
   "outputs": [
    {
     "name": "stderr",
     "output_type": "stream",
     "text": [
      "No handles with labels found to put in legend.\n"
     ]
    },
    {
     "data": {
      "image/png": "[encoded data removed]",
      "text/plain": [
       "<Figure size 252x189 with 1 Axes>"
      ]
     },
     "metadata": {
      "needs_background": "light"
     },
     "output_type": "display_data"
    }
   ],
   "source": [
    "plt.figure()\n",
    "plt.plot(t0, v0 - mv, color='black')\n",
    "plt.xlabel('Time (s)')\n",
    "plt.ylabel('Error $(m/s)$')\n",
    "plt.legend()\n",
    "plt.show()"
   ]
  },
  {
   "cell_type": "code",
   "execution_count": null,
   "metadata": {},
   "outputs": [],
   "source": []
  }
 ],
 "metadata": {
  "kernelspec": {
   "display_name": "Python 3",
   "language": "python",
   "name": "python3"
  },
  "language_info": {
   "codemirror_mode": {
    "name": "ipython",
    "version": 3
   },
   "file_extension": ".py",
   "mimetype": "text/x-python",
   "name": "python",
   "nbconvert_exporter": "python",
   "pygments_lexer": "ipython3",
   "version": "3.9.5"
  },
  "toc-autonumbering": true
 },
 "nbformat": 4,
 "nbformat_minor": 4
}
